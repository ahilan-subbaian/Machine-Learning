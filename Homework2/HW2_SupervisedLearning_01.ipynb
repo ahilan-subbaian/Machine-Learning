{
 "cells": [
  {
   "cell_type": "markdown",
   "metadata": {},
   "source": [
    "## HW#2 Supervised Learning I\n",
    "\n",
    "In this assignment, you are going to practice supervised learning ML modelings. \n",
    "\n",
    "**DUE: 10/12/2020 Thursday 11:59 PM.**"
   ]
  },
  {
   "cell_type": "markdown",
   "metadata": {},
   "source": [
    "### Problem #1 Linear Regression (20 pts)\n",
    "Data: Bike Sharing Dataset\n",
    "\n",
    "#### Data Set\n",
    "Bike-sharing rental process is highly correlated to the environmental and seasonal settings. For instance, weather conditions,\n",
    "precipitation, day of week, season, hour of the day, etc. can affect the rental behaviors. The core data set is related to  \n",
    "the two-year historical log corresponding to years 2011 and 2012 from Capital Bikeshare system, Washington D.C., USA which is \n",
    "publicly available in http://capitalbikeshare.com/system-data. We aggregated the data on two hourly and daily basis and then \n",
    "extracted and added the corresponding weather and seasonal information. Weather information are extracted from http://www.freemeteo.com. \n",
    "\n",
    "#### Files\n",
    "- hour.csv : bike sharing counts aggregated on hourly basis. Records: 17379 hours\n",
    "- day.csv - bike sharing counts aggregated on daily basis. Records: 731 days\n",
    "\n",
    "#### Dataset Characteristics:\n",
    "Both hour.csv and day.csv have the following fields, except hr which is not available in day.csv\n",
    "\t\n",
    "\t- instant: record index\n",
    "\t- dteday : date\n",
    "\t- season : season (1:springer, 2:summer, 3:fall, 4:winter)\n",
    "\t- yr : year (0: 2011, 1:2012)\n",
    "\t- mnth : month ( 1 to 12)\n",
    "\t- hr : hour (0 to 23)\n",
    "\t- holiday : weather day is holiday or not (extracted from http://dchr.dc.gov/page/holiday-schedule)\n",
    "\t- weekday : day of the week\n",
    "\t- workingday : if day is neither weekend nor holiday is 1, otherwise is 0.\n",
    "\t- weathersit : \n",
    "\t\t- 1: Clear, Few clouds, Partly cloudy, Partly cloudy\n",
    "\t\t- 2: Mist + Cloudy, Mist + Broken clouds, Mist + Few clouds, Mist\n",
    "\t\t- 3: Light Snow, Light Rain + Thunderstorm + Scattered clouds, Light Rain + Scattered clouds\n",
    "\t\t- 4: Heavy Rain + Ice Pallets + Thunderstorm + Mist, Snow + Fog\n",
    "\t- temp : Normalized temperature in Celsius. The values are divided to 41 (max)\n",
    "\t- atemp: Normalized feeling temperature in Celsius. The values are divided to 50 (max)\n",
    "\t- hum: Normalized humidity. The values are divided to 100 (max)\n",
    "\t- windspeed: Normalized wind speed. The values are divided to 67 (max)\n",
    "\t- casual: count of casual users\n",
    "\t- registered: count of registered users\n",
    "\t- cnt: count of total rental bikes including both casual and registered\n",
    "    \n",
    "#### Task\n",
    "- Predict the count of total rental bikes including both casual and registered.\n",
    "- Test Set: Daily Basis - August, Hourly Basis - Summer Season (June, July, and August from 10 AM to 2 PM)"
   ]
  },
  {
   "cell_type": "markdown",
   "metadata": {},
   "source": [
    "a) (2 pts) Split the datasets into train and test sets. (do for both)"
   ]
  },
  {
   "cell_type": "code",
   "execution_count": 1,
   "metadata": {},
   "outputs": [],
   "source": [
    "import pandas as pd\n",
    "import numpy as np\n",
    "from sklearn.model_selection import train_test_split\n",
    "from sklearn.linear_model import LinearRegression\n",
    "from sklearn.metrics import mean_squared_error\n",
    "from sklearn.metrics import r2_score\n",
    "from sklearn.preprocessing import PolynomialFeatures\n",
    "from sklearn.neighbors import KNeighborsClassifier\n",
    "from sklearn.metrics import accuracy_score\n",
    "import matplotlib.pyplot as plt\n",
    "from sklearn.preprocessing import StandardScaler\n",
    "from sklearn.preprocessing import LabelEncoder"
   ]
  },
  {
   "cell_type": "code",
   "execution_count": 2,
   "metadata": {},
   "outputs": [],
   "source": [
    "hours = pd.read_csv('hour.csv')\n",
    "days = pd.read_csv('day.csv')\n",
    "\n",
    "day_train = days.loc[days['mnth'] != 8].drop(columns = ['cnt'])\n",
    "tday_train = days.loc[days['mnth'] != 8]['cnt']\n",
    "day_test = days.loc[days['mnth'] == 8].drop(columns = ['cnt'])\n",
    "tday_test = days.loc[days['mnth'] == 8]['cnt']\n",
    "#and hours['hr'] < 10 and hours['hr']>2\n",
    "# hours.loc[(hours['season'] != 2)].loc[days['mnth'] >= 6].loc[days['mnth'] >= 6].loc[hours['hr'] != 10].loc[hours['hr'] != 11].loc[hours['hr'] != 12].loc[hours['hr'] != 13]\n",
    "df1 = hours[(hours['season'] == 2) & ((hours['mnth'] < 6) | (hours['mnth'] > 8)) & ((hours['hr'] < 10) | (hours['hr'] >= 14))]\n",
    "df2 = hours[(hours['season'] != 2)]\n",
    "#df1 = hrly_train_x.append(df2)\n",
    "df1 = pd.concat([df1, df2], ignore_index = False)\n",
    "hour_train = df1.drop(columns = ['cnt'])\n",
    "thour_train = df1['cnt']\n",
    "df3 = hours[(hours['season'] == 2) & ((hours['mnth'] >= 6) & (hours['mnth'] <= 8)) & ((hours['hr'] >= 10) & (hours['hr'] < 14))]\n",
    "hour_test = df3.drop(columns = ['cnt'])\n",
    "thour_test = df3['cnt']"
   ]
  },
  {
   "cell_type": "code",
   "execution_count": null,
   "metadata": {},
   "outputs": [],
   "source": []
  },
  {
   "cell_type": "markdown",
   "metadata": {},
   "source": [
    "b) (2 pts) Before you do anything with the train datasets, which features can be deleted? Explain why. (do for both)"
   ]
  },
  {
   "cell_type": "code",
   "execution_count": 3,
   "metadata": {},
   "outputs": [],
   "source": [
    "#I can remove both the instant (has no relation to the predicted variable) \n",
    "# and casual, registered columns because these variables are very obviously linearly correlated with the answer\n",
    "#and remove dteday because it is shown in the other variables"
   ]
  },
  {
   "cell_type": "code",
   "execution_count": 4,
   "metadata": {},
   "outputs": [],
   "source": [
    "day_train = day_train.drop(columns = ['instant','dteday', 'casual', 'registered'])\n",
    "day_test = day_test.drop(columns = ['instant','dteday', 'casual', 'registered'])\n",
    "hour_train = hour_train.drop(columns = ['instant','dteday', 'casual', 'registered'])\n",
    "hour_test = hour_test.drop(columns = ['instant','dteday', 'casual', 'registered'])"
   ]
  },
  {
   "cell_type": "markdown",
   "metadata": {},
   "source": [
    "c) (2 pts) Make `weathersit` and `weekday` one-hot vectors. (do for both)\n",
    "- Do you think this process is necessary? Do you find other features that are necessary to do this? Explain why. If you find any features that are needed to be tranformed into one-hot vectors, please do. \n",
    "- **Do not** do on the test sets here as well as step d).  "
   ]
  },
  {
   "cell_type": "code",
   "execution_count": 5,
   "metadata": {},
   "outputs": [],
   "source": [
    "### Code Starts Here ###\n",
    "#this is neccessary as these columns are not linearly correlated, this process should be repeated for\n",
    "#season since it is not correlated between the different values\n",
    "weathersit = pd.get_dummies(hour_train['weathersit'])\n",
    "weekday = pd.get_dummies(hour_train['weekday'])\n",
    "weekday.columns = ['Sunday', 'Monday', 'Tuesday', 'Wednesday', 'Thursday', 'Friday', 'Saturday']\n",
    "season = pd.get_dummies(hour_train['season'])\n",
    "season.columns = ['spring', 'summer', 'fall', 'winter']\n",
    "hour_train = hour_train.drop(columns = ['weathersit', 'weekday', 'season'])\n",
    "hour_train = pd.concat([hour_train, weathersit, weekday, season], axis = 1)"
   ]
  },
  {
   "cell_type": "code",
   "execution_count": 6,
   "metadata": {},
   "outputs": [],
   "source": [
    "weathersit2 = pd.get_dummies(day_train['weathersit'])\n",
    "weekday2 = pd.get_dummies(day_train['weekday'])\n",
    "weekday2.columns = ['Sunday', 'Monday', 'Tuesday', 'Wednesday', 'Thursday', 'Friday', 'Saturday']\n",
    "season = pd.get_dummies(day_train['season'])\n",
    "season.columns = ['spring', 'summer', 'fall', 'winter']\n",
    "day_train = day_train.drop(columns = ['weathersit', 'weekday', 'season'])\n",
    "day_train = pd.concat([day_train, weathersit2, weekday2, season], axis = 1)"
   ]
  },
  {
   "cell_type": "markdown",
   "metadata": {},
   "source": [
    "d) (2 pts) Using the train sets, find the correlation between coorelations between features and target variable. \n",
    "   - Did you find other features that can be deleted? Explain why. "
   ]
  },
  {
   "cell_type": "code",
   "execution_count": 7,
   "metadata": {},
   "outputs": [
    {
     "data": {
      "text/plain": [
       "Index([        'yr',       'mnth',         'hr',    'holiday', 'workingday',\n",
       "             'temp',      'atemp',        'hum',  'windspeed',            1,\n",
       "                  2,            3,            4,     'Sunday',     'Monday',\n",
       "          'Tuesday',  'Wednesday',   'Thursday',     'Friday',   'Saturday',\n",
       "           'spring',     'summer',       'fall',     'winter'],\n",
       "      dtype='object')"
      ]
     },
     "execution_count": 7,
     "metadata": {},
     "output_type": "execute_result"
    }
   ],
   "source": [
    "hour_train.columns"
   ]
  },
  {
   "cell_type": "code",
   "execution_count": 8,
   "metadata": {},
   "outputs": [
    {
     "data": {
      "text/html": [
       "<div>\n",
       "<style scoped>\n",
       "    .dataframe tbody tr th:only-of-type {\n",
       "        vertical-align: middle;\n",
       "    }\n",
       "\n",
       "    .dataframe tbody tr th {\n",
       "        vertical-align: top;\n",
       "    }\n",
       "\n",
       "    .dataframe thead th {\n",
       "        text-align: right;\n",
       "    }\n",
       "</style>\n",
       "<table border=\"1\" class=\"dataframe\">\n",
       "  <thead>\n",
       "    <tr style=\"text-align: right;\">\n",
       "      <th></th>\n",
       "      <th>yr</th>\n",
       "      <th>mnth</th>\n",
       "      <th>hr</th>\n",
       "      <th>holiday</th>\n",
       "      <th>workingday</th>\n",
       "      <th>temp</th>\n",
       "      <th>atemp</th>\n",
       "      <th>hum</th>\n",
       "      <th>1</th>\n",
       "      <th>2</th>\n",
       "      <th>...</th>\n",
       "      <th>Monday</th>\n",
       "      <th>Tuesday</th>\n",
       "      <th>Wednesday</th>\n",
       "      <th>Thursday</th>\n",
       "      <th>Friday</th>\n",
       "      <th>Saturday</th>\n",
       "      <th>spring</th>\n",
       "      <th>summer</th>\n",
       "      <th>fall</th>\n",
       "      <th>winter</th>\n",
       "    </tr>\n",
       "  </thead>\n",
       "  <tbody>\n",
       "    <tr>\n",
       "      <th>1807</th>\n",
       "      <td>0</td>\n",
       "      <td>3</td>\n",
       "      <td>0</td>\n",
       "      <td>0</td>\n",
       "      <td>1</td>\n",
       "      <td>0.34</td>\n",
       "      <td>0.3030</td>\n",
       "      <td>0.66</td>\n",
       "      <td>0</td>\n",
       "      <td>0</td>\n",
       "      <td>...</td>\n",
       "      <td>1</td>\n",
       "      <td>0</td>\n",
       "      <td>0</td>\n",
       "      <td>0</td>\n",
       "      <td>0</td>\n",
       "      <td>0</td>\n",
       "      <td>0</td>\n",
       "      <td>1</td>\n",
       "      <td>0</td>\n",
       "      <td>0</td>\n",
       "    </tr>\n",
       "    <tr>\n",
       "      <th>1808</th>\n",
       "      <td>0</td>\n",
       "      <td>3</td>\n",
       "      <td>1</td>\n",
       "      <td>0</td>\n",
       "      <td>1</td>\n",
       "      <td>0.34</td>\n",
       "      <td>0.3030</td>\n",
       "      <td>0.71</td>\n",
       "      <td>0</td>\n",
       "      <td>1</td>\n",
       "      <td>...</td>\n",
       "      <td>1</td>\n",
       "      <td>0</td>\n",
       "      <td>0</td>\n",
       "      <td>0</td>\n",
       "      <td>0</td>\n",
       "      <td>0</td>\n",
       "      <td>0</td>\n",
       "      <td>1</td>\n",
       "      <td>0</td>\n",
       "      <td>0</td>\n",
       "    </tr>\n",
       "    <tr>\n",
       "      <th>1809</th>\n",
       "      <td>0</td>\n",
       "      <td>3</td>\n",
       "      <td>2</td>\n",
       "      <td>0</td>\n",
       "      <td>1</td>\n",
       "      <td>0.34</td>\n",
       "      <td>0.3030</td>\n",
       "      <td>0.71</td>\n",
       "      <td>0</td>\n",
       "      <td>1</td>\n",
       "      <td>...</td>\n",
       "      <td>1</td>\n",
       "      <td>0</td>\n",
       "      <td>0</td>\n",
       "      <td>0</td>\n",
       "      <td>0</td>\n",
       "      <td>0</td>\n",
       "      <td>0</td>\n",
       "      <td>1</td>\n",
       "      <td>0</td>\n",
       "      <td>0</td>\n",
       "    </tr>\n",
       "    <tr>\n",
       "      <th>1810</th>\n",
       "      <td>0</td>\n",
       "      <td>3</td>\n",
       "      <td>3</td>\n",
       "      <td>0</td>\n",
       "      <td>1</td>\n",
       "      <td>0.34</td>\n",
       "      <td>0.3030</td>\n",
       "      <td>0.71</td>\n",
       "      <td>0</td>\n",
       "      <td>1</td>\n",
       "      <td>...</td>\n",
       "      <td>1</td>\n",
       "      <td>0</td>\n",
       "      <td>0</td>\n",
       "      <td>0</td>\n",
       "      <td>0</td>\n",
       "      <td>0</td>\n",
       "      <td>0</td>\n",
       "      <td>1</td>\n",
       "      <td>0</td>\n",
       "      <td>0</td>\n",
       "    </tr>\n",
       "    <tr>\n",
       "      <th>1811</th>\n",
       "      <td>0</td>\n",
       "      <td>3</td>\n",
       "      <td>5</td>\n",
       "      <td>0</td>\n",
       "      <td>1</td>\n",
       "      <td>0.32</td>\n",
       "      <td>0.3030</td>\n",
       "      <td>0.81</td>\n",
       "      <td>1</td>\n",
       "      <td>0</td>\n",
       "      <td>...</td>\n",
       "      <td>1</td>\n",
       "      <td>0</td>\n",
       "      <td>0</td>\n",
       "      <td>0</td>\n",
       "      <td>0</td>\n",
       "      <td>0</td>\n",
       "      <td>0</td>\n",
       "      <td>1</td>\n",
       "      <td>0</td>\n",
       "      <td>0</td>\n",
       "    </tr>\n",
       "    <tr>\n",
       "      <th>...</th>\n",
       "      <td>...</td>\n",
       "      <td>...</td>\n",
       "      <td>...</td>\n",
       "      <td>...</td>\n",
       "      <td>...</td>\n",
       "      <td>...</td>\n",
       "      <td>...</td>\n",
       "      <td>...</td>\n",
       "      <td>...</td>\n",
       "      <td>...</td>\n",
       "      <td>...</td>\n",
       "      <td>...</td>\n",
       "      <td>...</td>\n",
       "      <td>...</td>\n",
       "      <td>...</td>\n",
       "      <td>...</td>\n",
       "      <td>...</td>\n",
       "      <td>...</td>\n",
       "      <td>...</td>\n",
       "      <td>...</td>\n",
       "      <td>...</td>\n",
       "    </tr>\n",
       "    <tr>\n",
       "      <th>17374</th>\n",
       "      <td>1</td>\n",
       "      <td>12</td>\n",
       "      <td>19</td>\n",
       "      <td>0</td>\n",
       "      <td>1</td>\n",
       "      <td>0.26</td>\n",
       "      <td>0.2576</td>\n",
       "      <td>0.60</td>\n",
       "      <td>0</td>\n",
       "      <td>1</td>\n",
       "      <td>...</td>\n",
       "      <td>1</td>\n",
       "      <td>0</td>\n",
       "      <td>0</td>\n",
       "      <td>0</td>\n",
       "      <td>0</td>\n",
       "      <td>0</td>\n",
       "      <td>1</td>\n",
       "      <td>0</td>\n",
       "      <td>0</td>\n",
       "      <td>0</td>\n",
       "    </tr>\n",
       "    <tr>\n",
       "      <th>17375</th>\n",
       "      <td>1</td>\n",
       "      <td>12</td>\n",
       "      <td>20</td>\n",
       "      <td>0</td>\n",
       "      <td>1</td>\n",
       "      <td>0.26</td>\n",
       "      <td>0.2576</td>\n",
       "      <td>0.60</td>\n",
       "      <td>0</td>\n",
       "      <td>1</td>\n",
       "      <td>...</td>\n",
       "      <td>1</td>\n",
       "      <td>0</td>\n",
       "      <td>0</td>\n",
       "      <td>0</td>\n",
       "      <td>0</td>\n",
       "      <td>0</td>\n",
       "      <td>1</td>\n",
       "      <td>0</td>\n",
       "      <td>0</td>\n",
       "      <td>0</td>\n",
       "    </tr>\n",
       "    <tr>\n",
       "      <th>17376</th>\n",
       "      <td>1</td>\n",
       "      <td>12</td>\n",
       "      <td>21</td>\n",
       "      <td>0</td>\n",
       "      <td>1</td>\n",
       "      <td>0.26</td>\n",
       "      <td>0.2576</td>\n",
       "      <td>0.60</td>\n",
       "      <td>1</td>\n",
       "      <td>0</td>\n",
       "      <td>...</td>\n",
       "      <td>1</td>\n",
       "      <td>0</td>\n",
       "      <td>0</td>\n",
       "      <td>0</td>\n",
       "      <td>0</td>\n",
       "      <td>0</td>\n",
       "      <td>1</td>\n",
       "      <td>0</td>\n",
       "      <td>0</td>\n",
       "      <td>0</td>\n",
       "    </tr>\n",
       "    <tr>\n",
       "      <th>17377</th>\n",
       "      <td>1</td>\n",
       "      <td>12</td>\n",
       "      <td>22</td>\n",
       "      <td>0</td>\n",
       "      <td>1</td>\n",
       "      <td>0.26</td>\n",
       "      <td>0.2727</td>\n",
       "      <td>0.56</td>\n",
       "      <td>1</td>\n",
       "      <td>0</td>\n",
       "      <td>...</td>\n",
       "      <td>1</td>\n",
       "      <td>0</td>\n",
       "      <td>0</td>\n",
       "      <td>0</td>\n",
       "      <td>0</td>\n",
       "      <td>0</td>\n",
       "      <td>1</td>\n",
       "      <td>0</td>\n",
       "      <td>0</td>\n",
       "      <td>0</td>\n",
       "    </tr>\n",
       "    <tr>\n",
       "      <th>17378</th>\n",
       "      <td>1</td>\n",
       "      <td>12</td>\n",
       "      <td>23</td>\n",
       "      <td>0</td>\n",
       "      <td>1</td>\n",
       "      <td>0.26</td>\n",
       "      <td>0.2727</td>\n",
       "      <td>0.65</td>\n",
       "      <td>1</td>\n",
       "      <td>0</td>\n",
       "      <td>...</td>\n",
       "      <td>1</td>\n",
       "      <td>0</td>\n",
       "      <td>0</td>\n",
       "      <td>0</td>\n",
       "      <td>0</td>\n",
       "      <td>0</td>\n",
       "      <td>1</td>\n",
       "      <td>0</td>\n",
       "      <td>0</td>\n",
       "      <td>0</td>\n",
       "    </tr>\n",
       "  </tbody>\n",
       "</table>\n",
       "<p>15843 rows × 23 columns</p>\n",
       "</div>"
      ],
      "text/plain": [
       "       yr  mnth  hr  holiday  workingday  temp   atemp   hum  1  2  ...  \\\n",
       "1807    0     3   0        0           1  0.34  0.3030  0.66  0  0  ...   \n",
       "1808    0     3   1        0           1  0.34  0.3030  0.71  0  1  ...   \n",
       "1809    0     3   2        0           1  0.34  0.3030  0.71  0  1  ...   \n",
       "1810    0     3   3        0           1  0.34  0.3030  0.71  0  1  ...   \n",
       "1811    0     3   5        0           1  0.32  0.3030  0.81  1  0  ...   \n",
       "...    ..   ...  ..      ...         ...   ...     ...   ... .. ..  ...   \n",
       "17374   1    12  19        0           1  0.26  0.2576  0.60  0  1  ...   \n",
       "17375   1    12  20        0           1  0.26  0.2576  0.60  0  1  ...   \n",
       "17376   1    12  21        0           1  0.26  0.2576  0.60  1  0  ...   \n",
       "17377   1    12  22        0           1  0.26  0.2727  0.56  1  0  ...   \n",
       "17378   1    12  23        0           1  0.26  0.2727  0.65  1  0  ...   \n",
       "\n",
       "       Monday  Tuesday  Wednesday  Thursday  Friday  Saturday  spring  summer  \\\n",
       "1807        1        0          0         0       0         0       0       1   \n",
       "1808        1        0          0         0       0         0       0       1   \n",
       "1809        1        0          0         0       0         0       0       1   \n",
       "1810        1        0          0         0       0         0       0       1   \n",
       "1811        1        0          0         0       0         0       0       1   \n",
       "...       ...      ...        ...       ...     ...       ...     ...     ...   \n",
       "17374       1        0          0         0       0         0       1       0   \n",
       "17375       1        0          0         0       0         0       1       0   \n",
       "17376       1        0          0         0       0         0       1       0   \n",
       "17377       1        0          0         0       0         0       1       0   \n",
       "17378       1        0          0         0       0         0       1       0   \n",
       "\n",
       "       fall  winter  \n",
       "1807      0       0  \n",
       "1808      0       0  \n",
       "1809      0       0  \n",
       "1810      0       0  \n",
       "1811      0       0  \n",
       "...     ...     ...  \n",
       "17374     0       0  \n",
       "17375     0       0  \n",
       "17376     0       0  \n",
       "17377     0       0  \n",
       "17378     0       0  \n",
       "\n",
       "[15843 rows x 23 columns]"
      ]
     },
     "execution_count": 8,
     "metadata": {},
     "output_type": "execute_result"
    }
   ],
   "source": [
    "### Code Starts Here ###\n",
    "hours.drop(columns = ['instant','dteday', 'casual', 'registered', 'weathersit', 'weekday', 'season']).corr()\n",
    "#The only feature that I am confident with deleting is windspeed\n",
    "hour_train.drop(columns = ['windspeed'])"
   ]
  },
  {
   "cell_type": "code",
   "execution_count": 9,
   "metadata": {},
   "outputs": [
    {
     "data": {
      "text/html": [
       "<div>\n",
       "<style scoped>\n",
       "    .dataframe tbody tr th:only-of-type {\n",
       "        vertical-align: middle;\n",
       "    }\n",
       "\n",
       "    .dataframe tbody tr th {\n",
       "        vertical-align: top;\n",
       "    }\n",
       "\n",
       "    .dataframe thead th {\n",
       "        text-align: right;\n",
       "    }\n",
       "</style>\n",
       "<table border=\"1\" class=\"dataframe\">\n",
       "  <thead>\n",
       "    <tr style=\"text-align: right;\">\n",
       "      <th></th>\n",
       "      <th>yr</th>\n",
       "      <th>mnth</th>\n",
       "      <th>holiday</th>\n",
       "      <th>workingday</th>\n",
       "      <th>temp</th>\n",
       "      <th>atemp</th>\n",
       "      <th>hum</th>\n",
       "      <th>windspeed</th>\n",
       "      <th>cnt</th>\n",
       "    </tr>\n",
       "  </thead>\n",
       "  <tbody>\n",
       "    <tr>\n",
       "      <th>yr</th>\n",
       "      <td>1.000000</td>\n",
       "      <td>-0.001792</td>\n",
       "      <td>0.007954</td>\n",
       "      <td>-0.002013</td>\n",
       "      <td>0.047604</td>\n",
       "      <td>0.046106</td>\n",
       "      <td>-0.110651</td>\n",
       "      <td>-0.011817</td>\n",
       "      <td>0.566710</td>\n",
       "    </tr>\n",
       "    <tr>\n",
       "      <th>mnth</th>\n",
       "      <td>-0.001792</td>\n",
       "      <td>1.000000</td>\n",
       "      <td>0.019191</td>\n",
       "      <td>-0.005901</td>\n",
       "      <td>0.220205</td>\n",
       "      <td>0.227459</td>\n",
       "      <td>0.222204</td>\n",
       "      <td>-0.207502</td>\n",
       "      <td>0.279977</td>\n",
       "    </tr>\n",
       "    <tr>\n",
       "      <th>holiday</th>\n",
       "      <td>0.007954</td>\n",
       "      <td>0.019191</td>\n",
       "      <td>1.000000</td>\n",
       "      <td>-0.253023</td>\n",
       "      <td>-0.028556</td>\n",
       "      <td>-0.032507</td>\n",
       "      <td>-0.015937</td>\n",
       "      <td>0.006292</td>\n",
       "      <td>-0.068348</td>\n",
       "    </tr>\n",
       "    <tr>\n",
       "      <th>workingday</th>\n",
       "      <td>-0.002013</td>\n",
       "      <td>-0.005901</td>\n",
       "      <td>-0.253023</td>\n",
       "      <td>1.000000</td>\n",
       "      <td>0.052660</td>\n",
       "      <td>0.052182</td>\n",
       "      <td>0.024327</td>\n",
       "      <td>-0.018796</td>\n",
       "      <td>0.061156</td>\n",
       "    </tr>\n",
       "    <tr>\n",
       "      <th>temp</th>\n",
       "      <td>0.047604</td>\n",
       "      <td>0.220205</td>\n",
       "      <td>-0.028556</td>\n",
       "      <td>0.052660</td>\n",
       "      <td>1.000000</td>\n",
       "      <td>0.991702</td>\n",
       "      <td>0.126963</td>\n",
       "      <td>-0.157944</td>\n",
       "      <td>0.627494</td>\n",
       "    </tr>\n",
       "    <tr>\n",
       "      <th>atemp</th>\n",
       "      <td>0.046106</td>\n",
       "      <td>0.227459</td>\n",
       "      <td>-0.032507</td>\n",
       "      <td>0.052182</td>\n",
       "      <td>0.991702</td>\n",
       "      <td>1.000000</td>\n",
       "      <td>0.139988</td>\n",
       "      <td>-0.183643</td>\n",
       "      <td>0.631066</td>\n",
       "    </tr>\n",
       "    <tr>\n",
       "      <th>hum</th>\n",
       "      <td>-0.110651</td>\n",
       "      <td>0.222204</td>\n",
       "      <td>-0.015937</td>\n",
       "      <td>0.024327</td>\n",
       "      <td>0.126963</td>\n",
       "      <td>0.139988</td>\n",
       "      <td>1.000000</td>\n",
       "      <td>-0.248489</td>\n",
       "      <td>-0.100659</td>\n",
       "    </tr>\n",
       "    <tr>\n",
       "      <th>windspeed</th>\n",
       "      <td>-0.011817</td>\n",
       "      <td>-0.207502</td>\n",
       "      <td>0.006292</td>\n",
       "      <td>-0.018796</td>\n",
       "      <td>-0.157944</td>\n",
       "      <td>-0.183643</td>\n",
       "      <td>-0.248489</td>\n",
       "      <td>1.000000</td>\n",
       "      <td>-0.234545</td>\n",
       "    </tr>\n",
       "    <tr>\n",
       "      <th>cnt</th>\n",
       "      <td>0.566710</td>\n",
       "      <td>0.279977</td>\n",
       "      <td>-0.068348</td>\n",
       "      <td>0.061156</td>\n",
       "      <td>0.627494</td>\n",
       "      <td>0.631066</td>\n",
       "      <td>-0.100659</td>\n",
       "      <td>-0.234545</td>\n",
       "      <td>1.000000</td>\n",
       "    </tr>\n",
       "  </tbody>\n",
       "</table>\n",
       "</div>"
      ],
      "text/plain": [
       "                  yr      mnth   holiday  workingday      temp     atemp  \\\n",
       "yr          1.000000 -0.001792  0.007954   -0.002013  0.047604  0.046106   \n",
       "mnth       -0.001792  1.000000  0.019191   -0.005901  0.220205  0.227459   \n",
       "holiday     0.007954  0.019191  1.000000   -0.253023 -0.028556 -0.032507   \n",
       "workingday -0.002013 -0.005901 -0.253023    1.000000  0.052660  0.052182   \n",
       "temp        0.047604  0.220205 -0.028556    0.052660  1.000000  0.991702   \n",
       "atemp       0.046106  0.227459 -0.032507    0.052182  0.991702  1.000000   \n",
       "hum        -0.110651  0.222204 -0.015937    0.024327  0.126963  0.139988   \n",
       "windspeed  -0.011817 -0.207502  0.006292   -0.018796 -0.157944 -0.183643   \n",
       "cnt         0.566710  0.279977 -0.068348    0.061156  0.627494  0.631066   \n",
       "\n",
       "                 hum  windspeed       cnt  \n",
       "yr         -0.110651  -0.011817  0.566710  \n",
       "mnth        0.222204  -0.207502  0.279977  \n",
       "holiday    -0.015937   0.006292 -0.068348  \n",
       "workingday  0.024327  -0.018796  0.061156  \n",
       "temp        0.126963  -0.157944  0.627494  \n",
       "atemp       0.139988  -0.183643  0.631066  \n",
       "hum         1.000000  -0.248489 -0.100659  \n",
       "windspeed  -0.248489   1.000000 -0.234545  \n",
       "cnt        -0.100659  -0.234545  1.000000  "
      ]
     },
     "execution_count": 9,
     "metadata": {},
     "output_type": "execute_result"
    }
   ],
   "source": [
    "days.drop(columns = ['instant','dteday', 'casual', 'registered', 'weathersit', 'weekday', 'season']).corr()\n",
    "#I am not confident to delete any of the features here"
   ]
  },
  {
   "cell_type": "markdown",
   "metadata": {},
   "source": [
    "e) (1 pts) Do you think you need to do cross-validation? What is the advantage and disadvantage of doing it?"
   ]
  },
  {
   "cell_type": "code",
   "execution_count": 10,
   "metadata": {},
   "outputs": [],
   "source": [
    "### Answer Here ###\n",
    "#Yes, because there is limited data and k-fold will reduce the bias in a small sample size. \n",
    "#The advantage of using cross-validation is to obtain a more accurate model that will provide a better prediction of\n",
    "#values, however this will probably result in a longer time to compute which is a problem"
   ]
  },
  {
   "cell_type": "markdown",
   "metadata": {},
   "source": [
    "f) (7 pts) Using `LinearRegression` from `sklearn` and `polyfit` from `numpy`, train two models each by having all features and 5 features based on step a) thru d). You might have to train polynomial model multiple times and you may go back do futher feature engineerings. **If you do, please show all work. Do not erase any work.** (do for both)"
   ]
  },
  {
   "cell_type": "code",
   "execution_count": 11,
   "metadata": {},
   "outputs": [
    {
     "data": {
      "text/plain": [
       "(669, 13)"
      ]
     },
     "execution_count": 11,
     "metadata": {},
     "output_type": "execute_result"
    }
   ],
   "source": [
    "day_train.drop(columns = ['yr', 'mnth', 'windspeed', 'atemp', 'spring', \n",
    "                         'summer', 'fall', 'winter', 'holiday'], axis = 1).shape"
   ]
  },
  {
   "cell_type": "code",
   "execution_count": 12,
   "metadata": {},
   "outputs": [
    {
     "data": {
      "text/plain": [
       "(669,)"
      ]
     },
     "execution_count": 12,
     "metadata": {},
     "output_type": "execute_result"
    }
   ],
   "source": [
    "tday_train.shape"
   ]
  },
  {
   "cell_type": "code",
   "execution_count": 13,
   "metadata": {},
   "outputs": [],
   "source": [
    "#sklearn all day\n",
    "dayAll = LinearRegression()\n",
    "dayAll.fit(day_train, tday_train)\n",
    "dayAllpred = dayAll.predict(day_train)\n",
    "\n",
    "#sklearn 5 day, I counted each one hot vectors as one feature, which I repeat for all the 5 feature calculations\n",
    "day5 = LinearRegression()\n",
    "day5.fit(day_train.drop(columns = ['yr', 'mnth', 'windspeed', 'atemp', 'spring', \n",
    "                         'summer', 'fall', 'winter', 'holiday'], axis = 1), tday_train)\n",
    "day5pred = day5.predict(day_train.drop(columns = ['yr', 'mnth', 'windspeed', 'atemp', 'spring', \n",
    "                         'summer', 'fall', 'winter', 'holiday'], axis = 1))\n",
    "         \n",
    "#sklearn all hour\n",
    "hourAll = LinearRegression()\n",
    "hourAll.fit(hour_train, thour_train)\n",
    "hourAllpred = hourAll.predict(hour_train)\n",
    "\n",
    "#sklearn 5 hour\n",
    "hour5 = LinearRegression()\n",
    "hour5.fit(hour_train.drop(columns = ['yr', 'mnth', 'windspeed', 'atemp', 'spring', \n",
    "                         'summer', 'fall', 'winter', 'holiday'], axis = 1), thour_train)\n",
    "hour5pred = hour5.predict(hour_train.drop(columns = ['yr', 'mnth', 'windspeed', 'atemp', 'spring', \n",
    "                         'summer', 'fall', 'winter', 'holiday'], axis = 1))"
   ]
  },
  {
   "cell_type": "code",
   "execution_count": 14,
   "metadata": {},
   "outputs": [],
   "source": [
    "#poly = PolynomialFeatures(degree=2)"
   ]
  },
  {
   "cell_type": "code",
   "execution_count": 15,
   "metadata": {},
   "outputs": [],
   "source": [
    "#day_train.columns"
   ]
  },
  {
   "cell_type": "code",
   "execution_count": 16,
   "metadata": {},
   "outputs": [],
   "source": [
    "#day_train.drop(columns = [       'mnth',       'temp',\n",
    "#            'atemp',        'hum',  'windspeed'])"
   ]
  },
  {
   "cell_type": "code",
   "execution_count": 17,
   "metadata": {},
   "outputs": [],
   "source": [
    "#pday_train = pd.DataFrame(poly.fit_transform(day_train.drop(columns = [        'yr',    'holiday', 'workingday', \n",
    "#                                    1,            2,\n",
    "#                  3,     'Sunday',     'Monday',    'Tuesday',  'Wednesday',\n",
    "#         'Thursday',     'Friday',   'Saturday',     'spring',     'summer',\n",
    "#             'fall',     'winter'])))"
   ]
  },
  {
   "cell_type": "code",
   "execution_count": 18,
   "metadata": {},
   "outputs": [],
   "source": [
    "#day_train.drop(columns = [       'mnth',       'temp',\n",
    "#            'atemp',        'hum',  'windspeed']).shape"
   ]
  },
  {
   "cell_type": "code",
   "execution_count": 19,
   "metadata": {},
   "outputs": [],
   "source": [
    "#pd.DataFrame(poly.fit_transform(day_train.drop(columns = [        'yr',    'holiday', 'workingday', \n",
    "#                                    1,            2,\n",
    "#                  3,     'Sunday',     'Monday',    'Tuesday',  'Wednesday',\n",
    "#         'Thursday',     'Friday',   'Saturday',     'spring',     'summer',\n",
    "#             'fall',     'winter']))).shape"
   ]
  },
  {
   "cell_type": "code",
   "execution_count": 20,
   "metadata": {},
   "outputs": [],
   "source": [
    "#pday_train.shape"
   ]
  },
  {
   "cell_type": "code",
   "execution_count": 21,
   "metadata": {},
   "outputs": [],
   "source": [
    "#polyfit Allday\n",
    "#poly = PolynomialFeatures(degree=2)\n",
    "#pday_train = pd.concat([pd.DataFrame(poly.fit_transform(day_train.drop(columns = ['yr',    'holiday', 'workingday', \n",
    "#                                    1,            2,\n",
    "#                  3,     'Sunday',     'Monday',    'Tuesday',  'Wednesday',\n",
    "#         'Thursday',     'Friday',   'Saturday',     'spring',     'summer',\n",
    "#             'fall',     'winter']))).reset_index(drop = True), day_train.drop(columns = [       'mnth',       'temp',\n",
    "#            'atemp',        'hum',  'windspeed']).reset_index(drop = True)], axis = 1)\n",
    "#pdayAll = LinearRegression()\n",
    "#pdayAll.fit(pday_train, tday_train)\n",
    "#pdayAllpred = pdayAll.predict(pday_train)"
   ]
  },
  {
   "cell_type": "code",
   "execution_count": null,
   "metadata": {},
   "outputs": [],
   "source": []
  },
  {
   "cell_type": "code",
   "execution_count": 22,
   "metadata": {},
   "outputs": [],
   "source": [
    "# predict_ = poly.fit_transform(predict)\n",
    "\n",
    "# clf = linear_model.LinearRegression()\n",
    "# clf.fit(X_, vector)"
   ]
  },
  {
   "cell_type": "code",
   "execution_count": 23,
   "metadata": {},
   "outputs": [],
   "source": [
    "# pd.concat([pd.DataFrame(poly.fit_transform(day_train.drop(columns = ['yr',    'holiday', 'workingday', \n",
    "#                                     1,            2,\n",
    "#                   3,     'Sunday',     'Monday',    'Tuesday',  'Wednesday',\n",
    "#          'Thursday',     'Friday',   'Saturday',     'spring',     'summer',\n",
    "#              'fall',     'winter']))).reset_index(drop = True), day_train.drop(columns = [       'mnth',       'temp',\n",
    "#             'atemp',        'hum',  'windspeed']).reset_index(drop = True)], axis = 1)"
   ]
  },
  {
   "cell_type": "code",
   "execution_count": 24,
   "metadata": {},
   "outputs": [],
   "source": [
    "# hour_train[['mnth', 'temp', 'hum','windspeed', 'hr']]"
   ]
  },
  {
   "cell_type": "code",
   "execution_count": 25,
   "metadata": {},
   "outputs": [],
   "source": [
    "# phour5 = LinearRegression()\n",
    "# #phour_train = pd.DataFrame(poly.fit_transform(hour_train.drop(columns = ['yr', 'mnth', 'windspeed', 'atemp', 'spring', \n",
    "# #                         'summer', 'fall', 'winter', 'holiday'], axis = 1)))\n",
    "# phour_train = pd.DataFrame(poly.fit_transform(hour_train[['mnth', 'temp', 'hum','windspeed', 'hr']]))\n",
    "# phour5.fit(phour_train, thour_train)\n",
    "# len(phour5.coef_)"
   ]
  },
  {
   "cell_type": "code",
   "execution_count": 26,
   "metadata": {},
   "outputs": [],
   "source": [
    "# hour_train.drop(columns = [       'mnth',       'temp',\n",
    "#             'atemp',        'hum',  'windspeed', 'hr']).reset_index(drop = True)"
   ]
  },
  {
   "cell_type": "code",
   "execution_count": 27,
   "metadata": {},
   "outputs": [],
   "source": [
    "#polyfit Allday\n",
    "poly = PolynomialFeatures(degree=2)\n",
    "pday_train = pd.concat([pd.DataFrame(poly.fit_transform(day_train.drop(columns = ['yr',    'holiday', 'workingday', \n",
    "                                    1,            2,\n",
    "                  3,     'Sunday',     'Monday',    'Tuesday',  'Wednesday',\n",
    "         'Thursday',     'Friday',   'Saturday',     'spring',     'summer',\n",
    "             'fall',     'winter']))).reset_index(drop = True), day_train.drop(columns = [       'mnth',       'temp',\n",
    "            'atemp',        'hum',  'windspeed']).reset_index(drop = True)], axis = 1)\n",
    "pdayAll = LinearRegression()\n",
    "pdayAll.fit(pday_train, tday_train)\n",
    "pdayAllpred = pdayAll.predict(pday_train)\n",
    "\n",
    "#polyfit 5 day\n",
    "pday5 = LinearRegression()\n",
    "#pday_train = pd.DataFrame(poly.fit_transform(day_train.drop(columns = ['yr', 'mnth', 'windspeed', 'atemp', 'spring', \n",
    "#                         'summer', 'fall', 'winter', 'holiday'], axis = 1)))\n",
    "pday_train = pd.concat([pd.DataFrame(poly.fit_transform(day_train[['mnth', 'temp', 'hum','windspeed']])), \n",
    "                       day_train[[1, 2, 3]].reset_index(drop = True)], axis = 1)\n",
    "pday5.fit(pday_train, tday_train)\n",
    "pday5pred = pday5.predict(pday_train)\n",
    "         \n",
    "#polyfit all hour\n",
    "phourAll = LinearRegression()\n",
    "#phour_train = pd.DataFrame(poly.fit_transform(hour_train))\n",
    "phour_train = pd.concat([pd.DataFrame(poly.fit_transform(hour_train.drop(columns = ['yr',    'holiday', 'workingday', \n",
    "                                    1,            2,\n",
    "                  3,     'Sunday',     'Monday',    'Tuesday',  'Wednesday',\n",
    "         'Thursday',     'Friday',   'Saturday',     'spring',     'summer',\n",
    "             'fall',     'winter']))).reset_index(drop = True), hour_train.drop(columns = [       'mnth',       'temp',\n",
    "            'atemp',        'hum',  'windspeed', 'hr']).reset_index(drop = True)], axis = 1)\n",
    "phourAll.fit(phour_train, thour_train)\n",
    "phourAllpred = phourAll.predict(phour_train)\n",
    "\n",
    "#polyfit 5 hour\n",
    "phour5 = LinearRegression()\n",
    "#phour_train = pd.DataFrame(poly.fit_transform(hour_train.drop(columns = ['yr', 'mnth', 'windspeed', 'atemp', 'spring', \n",
    "#                         'summer', 'fall', 'winter', 'holiday'], axis = 1)))\n",
    "phour_train = pd.DataFrame(poly.fit_transform(hour_train[['mnth', 'temp', 'hum','windspeed', 'hr']]))\n",
    "phour5.fit(phour_train, thour_train)\n",
    "phour5pred = phour5.predict(phour_train)\n"
   ]
  },
  {
   "cell_type": "markdown",
   "metadata": {},
   "source": [
    "g) (2 pts) Report value of coefficent ${\\bf w}$, **RMSE**, and **$R^2$** of all models. Which model is the best? Explain why. (asnwer for both data sets)"
   ]
  },
  {
   "cell_type": "code",
   "execution_count": 28,
   "metadata": {},
   "outputs": [
    {
     "name": "stdout",
     "output_type": "stream",
     "text": [
      "All days\n",
      "R^2 0.822\n",
      "RMSE 816.470\n",
      "Coefficients [ 1.97447090e+03 -1.52793462e+01 -4.05656337e+02  2.11453730e+02\n",
      "  5.09425971e+02  5.21713793e+03 -1.17391273e+03 -2.21344431e+03\n",
      "  8.00358447e+02  3.66031334e+02 -1.16638978e+03 -1.17480825e+02\n",
      " -1.69037026e+02 -9.53596018e+01 -1.33217463e+01  1.98446932e+01\n",
      "  6.36710741e+01  3.11683431e+02 -9.23714036e+02  2.09430143e+02\n",
      "  3.01397480e+00  7.11269919e+02]\n",
      "5 feature days\n",
      "R^2 0.472\n",
      "RMSE 1407.492\n",
      "Coefficients [  686.86291144  6701.6627771   -950.87824266   937.29657328\n",
      "   497.09703583 -1434.39360911   244.2336658   -269.53925189\n",
      "  -228.48638564  -152.54622584  -140.09144676   -89.09904798\n",
      "   635.5286923 ]\n",
      "All hours\n",
      "R^2 0.398\n",
      "RMSE 140.351\n",
      "Coefficients [  76.9256923     0.6182175     7.30038275  -19.6026643    14.79816636\n",
      "  256.09196101  123.08509891 -189.69092338   33.80076404   -8.02448634\n",
      "    1.24755631  -34.55354929   41.33047932   -4.5752326    -2.32144005\n",
      "   -3.23022571    1.66077987   -2.33087979    1.41726775    9.37973054\n",
      "  -15.27758284    3.26878421  -29.26485198   41.27365061]\n",
      "5 feature hours\n",
      "R^2 0.329\n",
      "RMSE 148.204\n",
      "Coefficients [   7.44122506   31.19241656  329.68992133 -195.98733909   -5.70800254\n",
      "    8.03287656  -32.00992612   29.68505209    7.93354863   -7.35765467\n",
      "   -7.37710188   -2.67709152   -6.34848577   -4.20220282   20.02898803]\n"
     ]
    }
   ],
   "source": [
    "### Code Starts Here ###\n",
    "from sklearn.metrics import r2_score\n",
    "from sklearn.metrics import mean_squared_error\n",
    "from math import *\n",
    "\n",
    "print('All days')\n",
    "print('R^2 %.3f' %(r2_score(tday_train,dayAllpred)))\n",
    "print('RMSE %.3f' %(sqrt(mean_squared_error(tday_train,dayAllpred))))\n",
    "print('Coefficients ' + (str(dayAll.coef_)))\n",
    "\n",
    "\n",
    "print('5 feature days')\n",
    "print('R^2 %.3f' %(r2_score(tday_train,day5pred)))\n",
    "print('RMSE %.3f' %(sqrt(mean_squared_error(tday_train,day5pred))))\n",
    "print('Coefficients ' + (str(day5.coef_)))\n",
    "\n",
    "\n",
    "print('All hours')\n",
    "print('R^2 %.3f' %(r2_score(thour_train, hourAllpred)))\n",
    "print('RMSE %.3f' %(sqrt(mean_squared_error(thour_train,hourAllpred))))\n",
    "print('Coefficients ' + (str(hourAll.coef_)))\n",
    "\n",
    "\n",
    "print('5 feature hours')\n",
    "print('R^2 %.3f' %(r2_score(thour_train, hour5pred)))\n",
    "print('RMSE %.3f' %(sqrt(mean_squared_error(hour5pred, thour_train))))\n",
    "print('Coefficients ' + (str(hour5.coef_)))"
   ]
  },
  {
   "cell_type": "code",
   "execution_count": 29,
   "metadata": {
    "scrolled": false
   },
   "outputs": [
    {
     "name": "stdout",
     "output_type": "stream",
     "text": [
      "Polynomial fit on the data\n",
      "All days\n",
      "R^2 0.878\n",
      "RMSE 677.803\n",
      "Coefficients [-3.72524784e-06 -4.86453390e+01  6.47743885e+04 -5.62741695e+04\n",
      "  7.90181378e+03 -8.28646801e+03 -1.00552330e+01 -2.20407670e+03\n",
      "  2.98958391e+03 -2.08208780e+02  1.92138244e+02 -2.18441556e+05\n",
      "  4.01924247e+05 -6.21719888e+03 -2.17948433e+04 -1.97925568e+05\n",
      "  7.12161456e+03  4.00335988e+04 -5.97523134e+03 -8.41400366e+03\n",
      "  3.11250943e+02  1.91467041e+03 -4.23513952e+02  2.10883229e+02\n",
      "  5.55305432e+02  1.63489934e+02 -7.18795366e+02 -1.12593217e+02\n",
      " -1.88445452e+02 -7.30871892e+01 -2.13338684e+01  7.98053612e+00\n",
      "  6.22552502e+01  3.25223941e+02 -6.81949941e+02  1.06130809e+02\n",
      "  1.76824800e+02  3.98994333e+02]\n",
      "5 feature days\n",
      "R^2 0.620\n",
      "RMSE 1194.236\n",
      "Coefficients [ 0.00000000e+00  1.94560243e+02  2.39873697e+04  9.05859528e+03\n",
      "  3.56246457e+03 -8.37455230e+00  4.52141702e+02 -2.73485025e+02\n",
      " -6.23113069e+01 -2.14262343e+04 -3.94458812e+02  1.69922711e+03\n",
      " -7.84688645e+03 -6.76117014e+03 -8.35565608e+03  3.82040438e+02\n",
      "  2.37215697e+02 -6.19256135e+02]\n",
      "All hours\n",
      "R^2 0.531\n",
      "RMSE 123.849\n",
      "Coefficients [ 8.09343672e-11 -5.94179107e+00  3.72407048e+01  3.87070278e+02\n",
      " -8.30605506e+01  4.39943222e+02  5.77517133e+01  2.82178699e+01\n",
      " -7.87604617e-02  9.92260591e-02 -6.60714122e+00  3.93900322e+01\n",
      " -7.17956959e+00 -2.02817652e+00  2.82178699e+01 -1.41014500e+00\n",
      "  2.16493422e+01 -1.11466514e+00 -1.04005520e+01  8.06592736e-01\n",
      "  7.18030478e-01 -3.86285774e+02 -1.05001482e+02  1.73518367e+01\n",
      "  5.30385501e+02 -3.08717921e+01  9.79438356e+01 -2.56405572e+02\n",
      " -3.16794769e+02  2.88625721e+01 -2.10525403e+02 -1.13427062e+02\n",
      " -6.55653067e+01 -2.27273477e+02 -2.85052368e+02  2.82178699e+01\n",
      "  8.02239661e+01 -1.55985236e+01  1.31231848e+01  6.31779314e+00\n",
      "  6.07298742e-01 -3.51429618e+01  2.82178699e+01 -6.60163756e+00\n",
      " -5.09658385e+00 -1.55091696e+00  1.24510926e+00  1.22500648e+00\n",
      "  1.70204625e+00  9.07697637e+00 -2.42472630e+01  1.77468145e+01\n",
      " -1.37798450e+01  2.02802935e+01]\n",
      "5 feature hours\n",
      "R^2 train for 5 parameters for hours: 0.474\n",
      "RMSE train for 5 parameters for hours: 131.175\n",
      "Coefficients for train for 5 parameters for hours: [ 0.00000000e+00  4.26334023e+00  6.50925561e+02  6.29481941e+02\n",
      "  1.75766937e+02  3.61567661e+01 -1.54260039e-01  1.62275307e+01\n",
      " -9.28019684e+00 -4.94223822e+00  1.41297470e-01 -6.35568399e+02\n",
      " -2.67769889e+02  1.93422692e+02  2.22021336e+01 -3.42451490e+02\n",
      " -2.37859299e+02 -1.19949912e+01 -3.12949251e+02  1.41539340e+00\n",
      " -1.37996625e+00]\n"
     ]
    }
   ],
   "source": [
    "### Code Starts Here ###\n",
    "from sklearn.metrics import r2_score\n",
    "from sklearn.metrics import mean_squared_error\n",
    "from math import *\n",
    "print('Polynomial fit on the data')\n",
    "print('All days')\n",
    "print('R^2 %.3f' %(r2_score(tday_train,pdayAllpred)))\n",
    "print('RMSE %.3f' %(sqrt(mean_squared_error(tday_train,pdayAllpred))))\n",
    "print('Coefficients ' + (str(pdayAll.coef_)))\n",
    "\n",
    "\n",
    "print('5 feature days')\n",
    "print('R^2 %.3f' %(r2_score(tday_train,pday5pred)))\n",
    "print('RMSE %.3f' %(sqrt(mean_squared_error(tday_train,pday5pred))))\n",
    "print('Coefficients ' + (str(pday5.coef_)))\n",
    "\n",
    "\n",
    "print('All hours')\n",
    "print('R^2 %.3f' %(r2_score(thour_train, phourAllpred)))\n",
    "print('RMSE %.3f' %(sqrt(mean_squared_error(thour_train, phourAllpred))))\n",
    "print('Coefficients ' + (str(phourAll.coef_)))\n",
    "\n",
    "\n",
    "print('5 feature hours')\n",
    "print('R^2 train for 5 parameters for hours: %.3f' %(r2_score(thour_train, phour5pred)))\n",
    "print('RMSE train for 5 parameters for hours: %.3f' %(sqrt(mean_squared_error(phour5pred, thour_train))))\n",
    "print('Coefficients for train for 5 parameters for hours: ' + (str(phour5.coef_)))"
   ]
  },
  {
   "cell_type": "code",
   "execution_count": 30,
   "metadata": {},
   "outputs": [],
   "source": [
    "#i chose the best models based on the highest r^2 value. The best linear model was for all days and the best \n",
    "#polynomial model was also for all days"
   ]
  },
  {
   "cell_type": "markdown",
   "metadata": {},
   "source": [
    "h) (2 pts) Using the best model out of 4 models, evaluate the model using the test sets. Can you use a model from daily data to hourly test set? Explain why or why not. "
   ]
  },
  {
   "cell_type": "code",
   "execution_count": 31,
   "metadata": {},
   "outputs": [],
   "source": [
    "#I believe that you cannot use the same model since the hourly test set has a different matrix lenght (because \n",
    "#of the additional hour column). However if someone were to convert the hourly test set by concatenating all the \n",
    "#values within one day,  I believe they could apply the model from daily data to hourly test set"
   ]
  },
  {
   "cell_type": "code",
   "execution_count": 32,
   "metadata": {},
   "outputs": [],
   "source": [
    "weathersit = pd.get_dummies(day_test['weathersit'])\n",
    "weekday = pd.get_dummies(day_test['weekday'])\n",
    "weekday.columns = ['Sunday', 'Monday', 'Tuesday', 'Wednesday', 'Thursday', 'Friday', 'Saturday']\n",
    "season = pd.get_dummies(day_test['season'])\n",
    "season.columns = ['summer']\n",
    "day_test = day_test.drop(columns = ['weathersit', 'weekday', 'season'])\n",
    "day_test = pd.concat([day_test, weathersit, weekday, season], axis = 1)\n"
   ]
  },
  {
   "cell_type": "code",
   "execution_count": 33,
   "metadata": {},
   "outputs": [
    {
     "data": {
      "text/plain": [
       "Index([        'yr',       'mnth',    'holiday', 'workingday',       'temp',\n",
       "            'atemp',        'hum',  'windspeed',            1,            2,\n",
       "           'Sunday',     'Monday',    'Tuesday',  'Wednesday',   'Thursday',\n",
       "           'Friday',   'Saturday',     'summer'],\n",
       "      dtype='object')"
      ]
     },
     "execution_count": 33,
     "metadata": {},
     "output_type": "execute_result"
    }
   ],
   "source": [
    "day_test.columns"
   ]
  },
  {
   "cell_type": "code",
   "execution_count": 34,
   "metadata": {},
   "outputs": [],
   "source": [
    "day_test['fall'] = np.zeros(len(day_test))\n",
    "day_test[3] = np.zeros(len(day_test))\n",
    "day_test['winter'] = np.zeros(len(day_test))\n",
    "day_test['spring'] = np.zeros(len(day_test))\n",
    "day_test = day_test[['yr',       'mnth',    'holiday', 'workingday',       'temp',\n",
    "            'atemp',        'hum',  'windspeed',            1,            2,\n",
    "                  3,     'Sunday',     'Monday',    'Tuesday',  'Wednesday',\n",
    "         'Thursday',     'Friday',   'Saturday',     'spring',     'summer',\n",
    "             'fall',     'winter']]"
   ]
  },
  {
   "cell_type": "code",
   "execution_count": 35,
   "metadata": {},
   "outputs": [
    {
     "name": "stdout",
     "output_type": "stream",
     "text": [
      "R^2 train for training set: 0.754\n",
      "RMSE train for training set: 734.877\n"
     ]
    }
   ],
   "source": [
    "\n",
    "#pdayAll = LinearRegression()\n",
    "#pdayAll.fit(pday_train, tday_train)\n",
    "#pdayAllpred = pdayAll.predict(pday_train)\n",
    "\n",
    "\n",
    "final = dayAll.predict(day_test)\n",
    "\n",
    "print('R^2 train for training set: %.3f' %(r2_score(tday_test, final)))\n",
    "print('RMSE train for training set: %.3f' %(sqrt(mean_squared_error(tday_test, final))))"
   ]
  },
  {
   "cell_type": "code",
   "execution_count": 36,
   "metadata": {},
   "outputs": [
    {
     "name": "stdout",
     "output_type": "stream",
     "text": [
      "-31759.471956883157\n",
      "R^2 train for training set: 0.819\n",
      "RMSE train for training set: 630.709\n"
     ]
    }
   ],
   "source": [
    "pday_test = pd.concat([pd.DataFrame(poly.fit_transform(day_test.drop(columns = ['yr',    'holiday', 'workingday', \n",
    "                                    1,            2,\n",
    "                  3,     'Sunday',     'Monday',    'Tuesday',  'Wednesday',\n",
    "         'Thursday',     'Friday',   'Saturday',     'spring',     'summer',\n",
    "             'fall',     'winter']))).reset_index(drop = True), day_test.drop(columns = [       'mnth',       'temp',\n",
    "            'atemp',        'hum',  'windspeed']).reset_index(drop = True)], axis = 1)\n",
    "final = pdayAll.predict(pday_test)\n",
    "#for some reason the value at 47 for my predict was around -31759 (i displayed below), cant really \n",
    "#explain why this was happening so\n",
    "#i chose to remove the value and got .819 fit which is very good\n",
    "print(final[47])\n",
    "x = []\n",
    "y = []\n",
    "tday_test = np.array(tday_test)\n",
    "for i in range(62):\n",
    "    if i != 47:\n",
    "        x += [final[i]]\n",
    "        y += [tday_test[i]]\n",
    "        \n",
    "print('R^2 train for training set: %.3f' %(r2_score(y, x)))\n",
    "print('RMSE train for training set: %.3f' %(sqrt(mean_squared_error(y, x))))\n",
    "# print('R^2 train for training set: %.3f' %(r2_score(tday_test, final)))\n",
    "# print('RMSE train for training set: %.3f' %(sqrt(mean_squared_error(tday_test, final))))"
   ]
  },
  {
   "cell_type": "markdown",
   "metadata": {},
   "source": [
    "### Problem 2 - Non-probabilitistc Classifications (Lecture 3 and 4) (32 pts)\n",
    "Dataset: Iris Data - find here: https://archive.ics.uci.edu/ml/datasets/iris"
   ]
  },
  {
   "cell_type": "markdown",
   "metadata": {},
   "source": [
    "a) (8 pts) Implement KNN algorithm, call it `myKNN`. You are welcome to use `numpy` for implementation but nothing else. "
   ]
  },
  {
   "cell_type": "code",
   "execution_count": 37,
   "metadata": {},
   "outputs": [],
   "source": [
    "### Code Starts Here ###\n",
    "def myKNN(x_train, test_data, k):\n",
    "        dist = []\n",
    "        for i in range(len(x_train)): \n",
    "            dis = distance(test_data,x_train.iloc[i])\n",
    "            dist.append((dis,y_train.iloc[i]))\n",
    "        dist.sort(key = lambda x: x[0])\n",
    "        neighbors = dist[:k]\n",
    "        tracker = {}\n",
    "        for neighbor in neighbors:\n",
    "            prediction = neighbor[1]\n",
    "            if prediction in tracker:\n",
    "                tracker[prediction] += 1\n",
    "            else:\n",
    "                tracker[prediction] = 1\n",
    "        sorted_tracker = sorted(tracker.items(), key=lambda x: x[1])\n",
    "        return sorted_tracker[-1][0]\n",
    "\n",
    "def distance(a, b):\n",
    "    return abs(sum((a - b) ** 3))**(1.0/3)"
   ]
  },
  {
   "cell_type": "markdown",
   "metadata": {},
   "source": [
    "b)(4 pts) Without splitting the dataset, classify the names using `myKNN` from $k=1$ to $25$. Then report the accuracy of `myKNN` for each $k$ value. You are free to extend the range of $k$ values up to $50$. "
   ]
  },
  {
   "cell_type": "code",
   "execution_count": 38,
   "metadata": {},
   "outputs": [],
   "source": [
    "iris = pd.read_csv('iris.data', names = ['sepalL', 'sepalW', \n",
    "                                           'petalH', 'petalW', 'flowerT'], header = None)\n",
    "all_flowers = {}\n",
    "count = 0\n",
    "for i in pd.unique(iris['flowerT']):\n",
    "    all_flowers[i] = count\n",
    "    count += 1\n",
    "\n",
    "for i in range(len(iris)):\n",
    "    iris.loc[i, 'flowerT'] = all_flowers[iris.loc[i, 'flowerT']]\n",
    "    \n",
    "x = iris.drop(columns = ['flowerT'])\n",
    "y = iris['flowerT']\n",
    "\n",
    "x_train, x_test, y_train, y_test = train_test_split(x, y, test_size=0.25, random_state=1)"
   ]
  },
  {
   "cell_type": "code",
   "execution_count": 39,
   "metadata": {},
   "outputs": [
    {
     "data": {
      "image/png": "[encoded data removed]",
      "text/plain": [
       "<Figure size 432x288 with 1 Axes>"
      ]
     },
     "metadata": {
      "needs_background": "light"
     },
     "output_type": "display_data"
    }
   ],
   "source": [
    "### Code Starts Here ###\n",
    "accur = []\n",
    "for k in range(1,26):\n",
    "    right = 0\n",
    "    for index in range(len(x_test)):\n",
    "        test_vals = x_test.iloc[index]\n",
    "        y_hats = myKNN(x_train, test_vals, k)\n",
    "        if y_hats == y_test.iloc[index]:\n",
    "            right += 1\n",
    "    accuracy = (right / (len(x_test))) * 100\n",
    "    accur += [accuracy]\n",
    "x_axis = [i for i in range(1,26)]\n",
    "plt.plot(x_axis,accur, label = \"myKNN\")\n",
    "#predictions\n",
    "#len(vals)\n",
    "plt.xlabel('Neighbors')\n",
    "plt.ylabel('Accuracy (%)')\n",
    "plt.title('Accuracy Vs K-Nearest Neighbors')\n",
    "plt.legend()\n",
    "plt.show()"
   ]
  },
  {
   "cell_type": "markdown",
   "metadata": {},
   "source": [
    "c) (2 pts) Do the same as b) using `sklearn.neighbors`. "
   ]
  },
  {
   "cell_type": "code",
   "execution_count": 40,
   "metadata": {},
   "outputs": [
    {
     "data": {
      "image/png": "[encoded data removed]",
      "text/plain": [
       "<Figure size 432x288 with 1 Axes>"
      ]
     },
     "metadata": {
      "needs_background": "light"
     },
     "output_type": "display_data"
    }
   ],
   "source": [
    "### Code Starts Here ###\n",
    "x = iris.drop(columns = ['flowerT'])\n",
    "y = iris['flowerT'].astype('int')\n",
    "\n",
    "x_train, x_test, y_train, y_test = train_test_split(x, y, test_size=0.25, random_state=1)\n",
    "\n",
    "accurs2 = []\n",
    "for i in range(1,26):\n",
    "    K = KNeighborsClassifier(n_neighbors=i)\n",
    "    K.fit(x_train, y_train)\n",
    "    y_pred = K.predict(x_test)\n",
    "    accurs2 += [accuracy_score(y_test,y_pred)*100]\n",
    "\n",
    "plt.plot(x_axis,accurs2, label = \"myKNN\")\n",
    "plt.xlabel('Neighbors')\n",
    "plt.ylabel('Accuracy (%)')\n",
    "plt.title('Accuracy Vs K-Nearest Neighbors')\n",
    "plt.legend()\n",
    "plt.show()"
   ]
  },
  {
   "cell_type": "markdown",
   "metadata": {},
   "source": [
    "d) (2 pts) Make a visual presentation of results from b) and c). You can simply make a accuracy vs. $k$ plot. Report the best $k$ value for both. Did you expect the results to be the same? Explain why or why not. "
   ]
  },
  {
   "cell_type": "code",
   "execution_count": 41,
   "metadata": {},
   "outputs": [],
   "source": [
    "#the best k-value for sciKit learn is 5, this is because while there are other 100% accuracies\n",
    "#this value is sorrounded on both sides with 100% while still maintaining a complex model.\n",
    "#The best value for my model is 9 because this is when I reach 100% accuracy by my model.\n",
    "#I did not expect the results to be the same since I am using a different distance formula for ranking"
   ]
  },
  {
   "cell_type": "code",
   "execution_count": 42,
   "metadata": {},
   "outputs": [
    {
     "data": {
      "image/png": "[encoded data removed]",
      "text/plain": [
       "<Figure size 432x288 with 1 Axes>"
      ]
     },
     "metadata": {
      "needs_background": "light"
     },
     "output_type": "display_data"
    }
   ],
   "source": [
    "### Code Starts Here ###\n",
    "\n",
    "plt.plot(x_axis,accurs2, label = \"SciKitLearn\")\n",
    "plt.plot(x_axis,accur, label = \"myKNN\")\n",
    "\n",
    "#predictions\n",
    "#len(vals)\n",
    "plt.xlabel('Neighbors')\n",
    "plt.ylabel('Accuracy (%)')\n",
    "plt.title('Accuracy Vs K-Nearest Neighbors')\n",
    "plt.legend()\n",
    "plt.show()"
   ]
  },
  {
   "cell_type": "markdown",
   "metadata": {},
   "source": [
    "e) (6 pts) Implement Linear Discriminant Analysis (call it `myLDA`) for each pair of the classes and report your results."
   ]
  },
  {
   "cell_type": "code",
   "execution_count": 43,
   "metadata": {},
   "outputs": [
    {
     "data": {
      "text/html": [
       "<div>\n",
       "<style scoped>\n",
       "    .dataframe tbody tr th:only-of-type {\n",
       "        vertical-align: middle;\n",
       "    }\n",
       "\n",
       "    .dataframe tbody tr th {\n",
       "        vertical-align: top;\n",
       "    }\n",
       "\n",
       "    .dataframe thead th {\n",
       "        text-align: right;\n",
       "    }\n",
       "</style>\n",
       "<table border=\"1\" class=\"dataframe\">\n",
       "  <thead>\n",
       "    <tr style=\"text-align: right;\">\n",
       "      <th></th>\n",
       "      <th>0</th>\n",
       "      <th>1</th>\n",
       "      <th>2</th>\n",
       "      <th>3</th>\n",
       "      <th>4</th>\n",
       "    </tr>\n",
       "  </thead>\n",
       "  <tbody>\n",
       "    <tr>\n",
       "      <th>0</th>\n",
       "      <td>5.1</td>\n",
       "      <td>3.5</td>\n",
       "      <td>1.4</td>\n",
       "      <td>0.2</td>\n",
       "      <td>0</td>\n",
       "    </tr>\n",
       "    <tr>\n",
       "      <th>1</th>\n",
       "      <td>4.9</td>\n",
       "      <td>3.0</td>\n",
       "      <td>1.4</td>\n",
       "      <td>0.2</td>\n",
       "      <td>0</td>\n",
       "    </tr>\n",
       "    <tr>\n",
       "      <th>2</th>\n",
       "      <td>4.7</td>\n",
       "      <td>3.2</td>\n",
       "      <td>1.3</td>\n",
       "      <td>0.2</td>\n",
       "      <td>0</td>\n",
       "    </tr>\n",
       "    <tr>\n",
       "      <th>3</th>\n",
       "      <td>4.6</td>\n",
       "      <td>3.1</td>\n",
       "      <td>1.5</td>\n",
       "      <td>0.2</td>\n",
       "      <td>0</td>\n",
       "    </tr>\n",
       "    <tr>\n",
       "      <th>4</th>\n",
       "      <td>5.0</td>\n",
       "      <td>3.6</td>\n",
       "      <td>1.4</td>\n",
       "      <td>0.2</td>\n",
       "      <td>0</td>\n",
       "    </tr>\n",
       "    <tr>\n",
       "      <th>...</th>\n",
       "      <td>...</td>\n",
       "      <td>...</td>\n",
       "      <td>...</td>\n",
       "      <td>...</td>\n",
       "      <td>...</td>\n",
       "    </tr>\n",
       "    <tr>\n",
       "      <th>145</th>\n",
       "      <td>6.7</td>\n",
       "      <td>3.0</td>\n",
       "      <td>5.2</td>\n",
       "      <td>2.3</td>\n",
       "      <td>2</td>\n",
       "    </tr>\n",
       "    <tr>\n",
       "      <th>146</th>\n",
       "      <td>6.3</td>\n",
       "      <td>2.5</td>\n",
       "      <td>5.0</td>\n",
       "      <td>1.9</td>\n",
       "      <td>2</td>\n",
       "    </tr>\n",
       "    <tr>\n",
       "      <th>147</th>\n",
       "      <td>6.5</td>\n",
       "      <td>3.0</td>\n",
       "      <td>5.2</td>\n",
       "      <td>2.0</td>\n",
       "      <td>2</td>\n",
       "    </tr>\n",
       "    <tr>\n",
       "      <th>148</th>\n",
       "      <td>6.2</td>\n",
       "      <td>3.4</td>\n",
       "      <td>5.4</td>\n",
       "      <td>2.3</td>\n",
       "      <td>2</td>\n",
       "    </tr>\n",
       "    <tr>\n",
       "      <th>149</th>\n",
       "      <td>5.9</td>\n",
       "      <td>3.0</td>\n",
       "      <td>5.1</td>\n",
       "      <td>1.8</td>\n",
       "      <td>2</td>\n",
       "    </tr>\n",
       "  </tbody>\n",
       "</table>\n",
       "<p>150 rows × 5 columns</p>\n",
       "</div>"
      ],
      "text/plain": [
       "       0    1    2    3  4\n",
       "0    5.1  3.5  1.4  0.2  0\n",
       "1    4.9  3.0  1.4  0.2  0\n",
       "2    4.7  3.2  1.3  0.2  0\n",
       "3    4.6  3.1  1.5  0.2  0\n",
       "4    5.0  3.6  1.4  0.2  0\n",
       "..   ...  ...  ...  ... ..\n",
       "145  6.7  3.0  5.2  2.3  2\n",
       "146  6.3  2.5  5.0  1.9  2\n",
       "147  6.5  3.0  5.2  2.0  2\n",
       "148  6.2  3.4  5.4  2.3  2\n",
       "149  5.9  3.0  5.1  1.8  2\n",
       "\n",
       "[150 rows x 5 columns]"
      ]
     },
     "execution_count": 43,
     "metadata": {},
     "output_type": "execute_result"
    }
   ],
   "source": [
    "### Code Starts Here ###\n",
    "sc = StandardScaler()\n",
    "encoder_iris = LabelEncoder()\n",
    "\n",
    "df_iris = pd.read_csv('iris.data',header=None)\n",
    "df_iris[4] = encoder_iris.fit_transform(df_iris[4])\n",
    "\n",
    "X = df_iris.iloc[:,:4].copy()\n",
    "Y = df_iris[4].copy()\n",
    "df_iris"
   ]
  },
  {
   "cell_type": "code",
   "execution_count": 44,
   "metadata": {},
   "outputs": [],
   "source": [
    "x_train, x_test, y_train, y_test = train_test_split(X,Y,test_size=0.2,random_state=0)"
   ]
  },
  {
   "cell_type": "code",
   "execution_count": 45,
   "metadata": {},
   "outputs": [
    {
     "name": "stderr",
     "output_type": "stream",
     "text": [
      "<ipython-input-45-6e196cd4d980>:2: SettingWithCopyWarning: \n",
      "A value is trying to be set on a copy of a slice from a DataFrame.\n",
      "Try using .loc[row_indexer,col_indexer] = value instead\n",
      "\n",
      "See the caveats in the documentation: https://pandas.pydata.org/pandas-docs/stable/user_guide/indexing.html#returning-a-view-versus-a-copy\n",
      "  x_train[col] = sc.fit_transform(x_train[col].values.reshape(-1,1))\n",
      "<ipython-input-45-6e196cd4d980>:2: SettingWithCopyWarning: \n",
      "A value is trying to be set on a copy of a slice from a DataFrame.\n",
      "Try using .loc[row_indexer,col_indexer] = value instead\n",
      "\n",
      "See the caveats in the documentation: https://pandas.pydata.org/pandas-docs/stable/user_guide/indexing.html#returning-a-view-versus-a-copy\n",
      "  x_train[col] = sc.fit_transform(x_train[col].values.reshape(-1,1))\n",
      "<ipython-input-45-6e196cd4d980>:2: SettingWithCopyWarning: \n",
      "A value is trying to be set on a copy of a slice from a DataFrame.\n",
      "Try using .loc[row_indexer,col_indexer] = value instead\n",
      "\n",
      "See the caveats in the documentation: https://pandas.pydata.org/pandas-docs/stable/user_guide/indexing.html#returning-a-view-versus-a-copy\n",
      "  x_train[col] = sc.fit_transform(x_train[col].values.reshape(-1,1))\n",
      "<ipython-input-45-6e196cd4d980>:2: SettingWithCopyWarning: \n",
      "A value is trying to be set on a copy of a slice from a DataFrame.\n",
      "Try using .loc[row_indexer,col_indexer] = value instead\n",
      "\n",
      "See the caveats in the documentation: https://pandas.pydata.org/pandas-docs/stable/user_guide/indexing.html#returning-a-view-versus-a-copy\n",
      "  x_train[col] = sc.fit_transform(x_train[col].values.reshape(-1,1))\n"
     ]
    }
   ],
   "source": [
    "for col in x_train.columns:\n",
    "    x_train[col] = sc.fit_transform(x_train[col].values.reshape(-1,1))"
   ]
  },
  {
   "cell_type": "code",
   "execution_count": 46,
   "metadata": {},
   "outputs": [],
   "source": [
    "#compute the d dimenional mean vector\n",
    "mu = np.mean(x_train,axis=0).values.reshape(4,1) \n",
    "\n",
    "mu_k = []\n",
    "\n",
    "for i,orchid in enumerate(np.unique(Y)):\n",
    "    mu_k.append(np.mean(x_train.where(Y==orchid),axis=0))\n",
    "mu_k = np.array(mu_k).T"
   ]
  },
  {
   "cell_type": "code",
   "execution_count": 47,
   "metadata": {},
   "outputs": [],
   "source": [
    "#construct the between class matrix and within class scatter matrix\n",
    "data_SW = []\n",
    "Nc = []\n",
    "for i,orchid in enumerate(np.unique(Y)):\n",
    "    a = np.array(x_train.where(Y==orchid).dropna().values-mu_k[:,i].reshape(1,4))\n",
    "    data_SW.append(np.dot(a.T,a))\n",
    "    Nc.append(np.sum(Y==orchid))\n",
    "SW = np.sum(data_SW,axis=0)\n",
    "\n",
    "SB = np.dot(Nc*np.array(mu_k-mu),np.array(mu_k-mu).T)"
   ]
  },
  {
   "cell_type": "code",
   "execution_count": 48,
   "metadata": {},
   "outputs": [],
   "source": [
    "#compute eigenvectors and eigenvalues\n",
    "eigval, eigvec = np.linalg.eig(np.dot(np.linalg.inv(SW),SB))"
   ]
  },
  {
   "cell_type": "code",
   "execution_count": 49,
   "metadata": {},
   "outputs": [],
   "source": [
    "#sort the eigenvalues in decreasing order\n",
    "eigen = [[np.abs(eigval[i]),eigvec[:,i]] for i in range(len(eigval))]\n",
    "eigen = sorted(eigen,key=lambda k: k[0],reverse=True)\n",
    "w = np.hstack((eigen[0][1][:,np.newaxis].real,eigen[1][1][:,np.newaxis].real))"
   ]
  },
  {
   "cell_type": "code",
   "execution_count": 50,
   "metadata": {},
   "outputs": [],
   "source": [
    "Y_pred = x_train.dot(w)"
   ]
  },
  {
   "cell_type": "code",
   "execution_count": 51,
   "metadata": {},
   "outputs": [
    {
     "data": {
      "text/plain": [
       "<matplotlib.legend.Legend at 0x7f979bd8ffd0>"
      ]
     },
     "execution_count": 51,
     "metadata": {},
     "output_type": "execute_result"
    },
    {
     "data": {
      "image/png": "[encoded data removed]",
      "text/plain": [
       "<Figure size 720x720 with 1 Axes>"
      ]
     },
     "metadata": {
      "needs_background": "light"
     },
     "output_type": "display_data"
    }
   ],
   "source": [
    "# Plot the data\n",
    "fig = plt.figure(figsize=(10,10))\n",
    "ax0 = fig.add_subplot(111)\n",
    "ax0.set_xlim(-3,3)\n",
    "ax0.set_ylim(-4,3)\n",
    "\n",
    "for l,c,m in zip(np.unique(y_train),['r','g','b'],['s','x','o']):\n",
    "    ax0.scatter(Y_pred[0][y_train==l],\n",
    "                Y_pred[1][y_train==l],\n",
    "               c=c, marker=m, label=l,edgecolors='black')\n",
    "ax0.legend(loc='upper right')"
   ]
  },
  {
   "cell_type": "code",
   "execution_count": null,
   "metadata": {},
   "outputs": [],
   "source": []
  },
  {
   "cell_type": "markdown",
   "metadata": {},
   "source": [
    "### Problem 3 - Logistic Regression (Lecture 4)\n",
    "(8 pts) In this problem you are going to built a logistic regression, `myLogistic`. The confirmation of the function will be done in HW#3. \n",
    "Here is a brief pseudo code. \n",
    "\n",
    "a. Initialize the weight and bias.\n",
    "\n",
    "b. A sigmoid function\n",
    "\n",
    "c. Forward/backward Propagation functions $𝑧=𝑥_1𝑤_1+\\cdots+𝑥_n𝑤_n+𝑏$\n",
    "\n",
    "d. Updating Parameters Function\n",
    "\n",
    "e. Prediction Function\n",
    "\n",
    "f. Main Function - Logistic Regression\n",
    "\n",
    "g. Calculate the accuracy"
   ]
  },
  {
   "cell_type": "code",
   "execution_count": 52,
   "metadata": {},
   "outputs": [],
   "source": [
    "### Code Starts Here ###\n",
    "def myLogistice(self, X, Y, learning_rate, price, final_train, final_test, alpha):\n",
    "    self.X = X\n",
    "    self.Y = Y\n",
    "    self.learning_rate = learning_rate\n",
    "    self.price = price\n",
    "    self.final_train = final_train\n",
    "    self.final_test = final_test\n",
    "    self.alpha = alpha\n",
    "    \n",
    "def nullInitialization(self):\n",
    "    self.w = np.zeros(len(self.X)).T\n",
    "    self.b = 0\n",
    "\n",
    "def sigmoid(self, result):\n",
    "    final_result = 1/(1+np.exp(-result))\n",
    "    return final_result\n",
    "\n",
    "def forwardPropagation(self):\n",
    "    final_result = sigmoid(np.dot(self.w, self.X.T) + self.b)\n",
    "    cost = (-1 / len(self.Y))*(np.sum((self.Y.T*np.log(final_result)) + \n",
    "                                      ((1-self.Y.T)*(np.log(1-final_result)))))\n",
    "    #\n",
    "    return cost\n",
    "\n",
    "#updates the paramter function\n",
    "def backwardPropagation(self):\n",
    "    prices = self.price\n",
    "    while prices > price:\n",
    "        #\n",
    "        prices = forwardPropagation()\n",
    "        #\n",
    "        sig = sigmoid(np.dot(self.w, self.X.T) + self.b)\n",
    "        dw = 1/len(self.Y)*(np.dot(self.X.T, (sig-self.Y.T).T))\n",
    "        db = (1/len(self.Y))*(np.sum(sig-self.Y.T))\n",
    "        #weight update\n",
    "        self.w = w - (learning_rate * (dw.T))\n",
    "        self.b = b - (learning_rate * db)\n",
    "        #\n",
    "\n",
    "def prediction(self, y_predict):\n",
    "    return self.w * y_predict.T + self.b\n",
    "\n",
    "def Accuracy(self, predict_test, final_test):\n",
    "    count = 0\n",
    "    for x, y in predict_test, final_test:\n",
    "        if abs(x - y) < alpha:\n",
    "            count += 1\n",
    "#    count = sum(abs(predict_test - final_test) < alpha)\n",
    "    return (count / len(predict_test))\n",
    "\n",
    "def logisticRegression(self):\n",
    "    nullInitialization()\n",
    "    backwardsPropagation()\n",
    "    predict_test = prediction(self.w, self.b, self.final_train)\n",
    "    print(\"Accuracy Score: \" + Accuracy(predict_test, final_test, self.alpha))\n",
    "    return w, b, predict_test"
   ]
  },
  {
   "cell_type": "code",
   "execution_count": null,
   "metadata": {},
   "outputs": [],
   "source": []
  }
 ],
 "metadata": {
  "kernelspec": {
   "display_name": "Python 3",
   "language": "python",
   "name": "python3"
  },
  "language_info": {
   "codemirror_mode": {
    "name": "ipython",
    "version": 3
   },
   "file_extension": ".py",
   "mimetype": "text/x-python",
   "name": "python",
   "nbconvert_exporter": "python",
   "pygments_lexer": "ipython3",
   "version": "3.8.3"
  }
 },
 "nbformat": 4,
 "nbformat_minor": 4
}
