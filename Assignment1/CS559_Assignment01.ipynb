{
 "cells": [
  {
   "cell_type": "markdown",
   "metadata": {},
   "source": [
    "## CS559: Homework #1-1"
   ]
  },
  {
   "cell_type": "markdown",
   "metadata": {},
   "source": [
    "This is a part of Assignment #1 and this assignment is due on **9/16/2020 by 11:59 PM**. You are going to submit the assignment both in format of *ipynb* and *html*. The assignment should be own work and must not be shared between classmates. Try to avoid using built-in functions. \n",
    "\n",
    "This assignment is about linear algebra and is more focusing on implementing functions. "
   ]
  },
  {
   "cell_type": "markdown",
   "metadata": {},
   "source": [
    "### Problem 1\n",
    "- Write a function `dot_product` to calculate the dot product of two 1 by n arrays. \n",
    "```\n",
    "a = array([1, 2, 3, 4])\n",
    "b = array([2, 3, 4, 5])\n",
    "dot_product(a,b) = 40\n",
    "```"
   ]
  },
  {
   "cell_type": "code",
   "execution_count": 3,
   "metadata": {},
   "outputs": [
    {
     "data": {
      "text/plain": [
       "40"
      ]
     },
     "execution_count": 3,
     "metadata": {},
     "output_type": "execute_result"
    }
   ],
   "source": [
    "def dot_product(a, b):\n",
    "    if len(a) != len(b):\n",
    "        return \"Not Valid Input\"\n",
    "    sum = 0\n",
    "    for i in range(len(a)):\n",
    "        sum += a[i] * b[i]\n",
    "    return sum\n",
    "dot_product([1,2,3,4],[2,3,4,5])\n"
   ]
  },
  {
   "cell_type": "markdown",
   "metadata": {},
   "source": [
    "- Test your code after generating two random 1 by 10 arrays. "
   ]
  },
  {
   "cell_type": "code",
   "execution_count": 4,
   "metadata": {},
   "outputs": [
    {
     "data": {
      "text/plain": [
       "True"
      ]
     },
     "execution_count": 4,
     "metadata": {},
     "output_type": "execute_result"
    }
   ],
   "source": [
    "import numpy as np\n",
    "a = np.random.randint(low=1, high=100, size=10)\n",
    "b = np.random.randint(low=1, high=100, size=10)\n",
    "dot_product(a, b)\n",
    "np.dot(a,b) == dot_product(a,b)"
   ]
  },
  {
   "cell_type": "markdown",
   "metadata": {},
   "source": [
    "- Consider three vectors ${\\bf x}_1=(1,3), {\\bf x}_2=(-1,5)$, and ${\\bf x}_3=(0,7)$. \n",
    "\n",
    "    - Find the distance of each point from the origin.\n",
    "\n",
    "    - Find the center of three points. \n",
    "\n",
    "    - Rotate the coordinates by 35 degress in counter clockwise. \n",
    "\n",
    "    - Magnify the area by 4 times. "
   ]
  },
  {
   "cell_type": "code",
   "execution_count": 40,
   "metadata": {},
   "outputs": [
    {
     "name": "stdout",
     "output_type": "stream",
     "text": [
      "3.1622776601683795\n",
      "5.0990195135927845\n",
      "7.0\n",
      "[0.0, 5.0]\n",
      "[-3.0, 1.0000000000000002]\n",
      "[-5.0, -0.9999999999999997]\n",
      "[6.123233995736766e-17, 1.0]\n",
      "[-7.0, 4.286263797015736e-16]\n",
      "12\n"
     ]
    }
   ],
   "source": [
    "### Code Starts Here\n",
    "import math\n",
    "def distance_from_origin(x):\n",
    "    return math.sqrt(x[0] * x[0] + x[1] * x[1])\n",
    "\n",
    "def center(x,y,z):\n",
    "    return [(x[0] + y[0] + z[0])/3, (x[1] + y[1] +z[1])/3]\n",
    "\n",
    "def rotate(x):\n",
    "    return [x[0] * math.cos(math.radians(35)) - x[1] * math.sin(math.radians(35)), x[0] * math.sin(math.radians(35)) + x[1] * math.cos(math.radians(35))]\n",
    "\n",
    "def area(x,y,z):\n",
    "    return 2 * abs(x[0]*(y[1] - z[1]) + y[0]*(z[1] - x[1]) + z[0]*(x[1] - y[1]))\n",
    "\n",
    "x = [1,3]\n",
    "y = [-1, 5]\n",
    "z = [0, 7]\n",
    "print(distance_from_origin(x))\n",
    "print(distance_from_origin(y))\n",
    "print(distance_from_origin(z))\n",
    "print(center(x,y,z))\n",
    "print(rotate(x))\n",
    "print(rotate(y))\n",
    "print(rotate(z))\n",
    "print(area(x,y,z))\n"
   ]
  },
  {
   "cell_type": "markdown",
   "metadata": {},
   "source": [
    "### Problem 2\n",
    "- Write a function `mat_product` to calculate the matrix product of two n by n arrays. For example:\n",
    "\n",
    "\n",
    "$A = \\begin{bmatrix} 1 & 3 & 0 \\\\ 2 & 0 & 2 \\\\ 1 & 1 & 4 \\end{bmatrix}$ and $A\\cdot A=\\begin{bmatrix} 7 & 3 & 6 \\\\ 4 & 8 & 8 \\\\ 7 & 8 & 18 \\end{bmatrix}$"
   ]
  },
  {
   "cell_type": "code",
   "execution_count": 6,
   "metadata": {},
   "outputs": [
    {
     "data": {
      "text/plain": [
       "[[7, 3, 6], [4, 8, 8], [7, 7, 18]]"
      ]
     },
     "execution_count": 6,
     "metadata": {},
     "output_type": "execute_result"
    }
   ],
   "source": [
    "### Code Starts Here\n",
    "def column(x, num):\n",
    "    return [x[i][num] for i in range(len(x))]\n",
    "def mat_product(x, y):\n",
    "    z = []\n",
    "    for i in range(len(x)):\n",
    "        z.append([])\n",
    "        for j in range(len(x)):\n",
    "            z[i].append(dot_product(x[i], column(y, j)))\n",
    "    return z\n",
    "x = [[1,3,0],[2,0,2],[1,1,4]]\n",
    "mat_product(x,x)"
   ]
  },
  {
   "cell_type": "markdown",
   "metadata": {},
   "source": [
    "Test your code after generating two random 4 by 4 matrices, ${\\bf X}$ and ${\\bf Y}$.  "
   ]
  },
  {
   "cell_type": "code",
   "execution_count": 7,
   "metadata": {},
   "outputs": [
    {
     "data": {
      "text/plain": [
       "array([[ True,  True,  True,  True],\n",
       "       [ True,  True,  True,  True],\n",
       "       [ True,  True,  True,  True],\n",
       "       [ True,  True,  True,  True]])"
      ]
     },
     "execution_count": 7,
     "metadata": {},
     "output_type": "execute_result"
    }
   ],
   "source": [
    "### Test Starts Here\n",
    "x = []\n",
    "z = []\n",
    "for i in range(4):\n",
    "    x.append(np.random.randint(low=1, high=100, size=4))\n",
    "    z.append(np.random.randint(low=1, high=100, size=4))\n",
    "x\n",
    "z\n",
    "mat_product(x, z)\n",
    "np.matmul(x,z) == mat_product(x,z)"
   ]
  },
  {
   "cell_type": "markdown",
   "metadata": {},
   "source": [
    "- Transpose ${\\bf X}$ and use the `mat_product` function to find the matrice of product: $Z={\\bf X}^T\\cdot{\\bf Y}$"
   ]
  },
  {
   "cell_type": "code",
   "execution_count": 30,
   "metadata": {},
   "outputs": [
    {
     "data": {
      "text/plain": [
       "[[6, 4, 8], [4, 10, 4], [8, 4, 20]]"
      ]
     },
     "execution_count": 30,
     "metadata": {},
     "output_type": "execute_result"
    }
   ],
   "source": [
    "### Code Starts Here\n",
    "def transpose(x):\n",
    "    z = []\n",
    "    for i in range(len(x[0])):\n",
    "        z.append(column(x, i))\n",
    "    return z\n",
    "\n",
    "x = [[1,3,0],[2,0,2],[1,1,4]]\n",
    "mat_product(transpose(x),x)"
   ]
  },
  {
   "cell_type": "markdown",
   "metadata": {},
   "source": []
  },
  {
   "cell_type": "markdown",
   "metadata": {},
   "source": [
    "### Problem 3\n",
    "- Write a function, `Det`, to find the determinant of n by n matrice, `EGval`, that finds the eigenvalue $\\lambda$ and a function, `EGvec`, that finds the eigenvectors ${\\bf x}$\n",
    "- For the confirmation, use ${\\bf A}=\\begin{bmatrix} 1 & 2 \\\\ 2 & 4 \\end{bmatrix}$."
   ]
  },
  {
   "cell_type": "code",
   "execution_count": 17,
   "metadata": {},
   "outputs": [
    {
     "data": {
      "text/plain": [
       "True"
      ]
     },
     "execution_count": 17,
     "metadata": {},
     "output_type": "execute_result"
    }
   ],
   "source": [
    "### Det Code Starts Here ###\n",
    "a = [[1,2],[2,4]]\n",
    "determinant = a[0][0]*a[1][1] - a[0][1]*a[1][0]\n",
    "determinant\n",
    "np.linalg.det(a) == determinant"
   ]
  },
  {
   "cell_type": "code",
   "execution_count": 16,
   "metadata": {},
   "outputs": [
    {
     "name": "stderr",
     "output_type": "stream",
     "text": [
      "<ipython-input-16-e7af9db7871b>:8: DeprecationWarning: elementwise comparison failed; this will raise an error in the future.\n",
      "  np.linalg.eig(a)[0] == [0,5]\n"
     ]
    },
    {
     "data": {
      "text/plain": [
       "False"
      ]
     },
     "execution_count": 16,
     "metadata": {},
     "output_type": "execute_result"
    }
   ],
   "source": [
    "### EGval Code Starts Here ###\n",
    "#det(a - 𝜆I) = 0\n",
    "#det([[1-𝜆,2],[2,4-𝜆]) = 0\n",
    "#4 - 5𝜆 + 𝜆^2 - 4 = 0\n",
    "#-5𝜆 + 𝜆^2 = 0\n",
    "#𝜆^2 - 5𝜆 = 0\n",
    "#𝜆 = 0 or 𝜆 = 5\n",
    "np.linalg.eig(a)[0] == [0,5]"
   ]
  },
  {
   "cell_type": "code",
   "execution_count": 18,
   "metadata": {},
   "outputs": [
    {
     "data": {
      "text/plain": [
       "(array([0., 5.]),\n",
       " array([[-0.89442719, -0.4472136 ],\n",
       "        [ 0.4472136 , -0.89442719]]))"
      ]
     },
     "execution_count": 18,
     "metadata": {},
     "output_type": "execute_result"
    }
   ],
   "source": [
    "### EGvec Code Starts Here ###\n",
    "#𝜆 = 0\n",
    "#[[1,2],[2,4]] * [x,y] = 0\n",
    "#[[1,2],[0,0]] * [x,y] = 0\n",
    "#x1 = [-2,1]\n",
    "#𝜆 = 5\n",
    "#[[-4,2],[2,-1]] * [x,y] = 0\n",
    "#[[-2,1],[0,0]] * [x,y] = 0\n",
    "#x2 = [1,2]\n",
    "\n",
    "np.linalg.eig(a)"
   ]
  },
  {
   "cell_type": "code",
   "execution_count": null,
   "metadata": {},
   "outputs": [],
   "source": []
  }
 ],
 "metadata": {
  "kernelspec": {
   "display_name": "Python 3",
   "language": "python",
   "name": "python3"
  },
  "language_info": {
   "codemirror_mode": {
    "name": "ipython",
    "version": 3
   },
   "file_extension": ".py",
   "mimetype": "text/x-python",
   "name": "python",
   "nbconvert_exporter": "python",
   "pygments_lexer": "ipython3",
   "version": "3.8.3"
  }
 },
 "nbformat": 4,
 "nbformat_minor": 4
}
